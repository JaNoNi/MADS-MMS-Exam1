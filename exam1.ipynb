{
 "cells": [
  {
   "cell_type": "markdown",
   "id": "fe12c956-bdc7-405f-89bb-73656f14b7bb",
   "metadata": {},
   "source": [
    "# Mathematics and Multivariate Statistics.\n",
    "---\n",
    "<b>MADS-MMS Portfolio-Exam Part 1<br>\n",
    "Janosch Höfer, 938969</b>"
   ]
  },
  {
   "cell_type": "markdown",
   "id": "a1c21e64-cf43-466b-87d1-0d211e1b06c3",
   "metadata": {},
   "source": [
    "## Table of contents\n",
    "\n",
    "- [Imports](#intro) <br>\n",
    "- [1. Exercise](#ex1) <br>\n",
    "- [2. Exercise](#ex2) <br>\n",
    "- [3. Exercise](#ex3) <br>\n",
    "- [4. Exercise](#ex4) <br>\n",
    "- [References](#ref)"
   ]
  },
  {
   "cell_type": "markdown",
   "id": "45565406-0b20-4068-9147-9ad734714b8b",
   "metadata": {},
   "source": [
    "## Imports"
   ]
  },
  {
   "cell_type": "code",
   "execution_count": null,
   "id": "837f2b17-b3b1-4f94-8a56-2bd201616743",
   "metadata": {},
   "outputs": [],
   "source": [
    "# Standard libraries\n",
    "\n",
    "# Installed libraries\n",
    "import numpy as np\n",
    "import matplotlib.pyplot as plt\n",
    "from sklearn.datasets import make_blobs, make_classification\n",
    "from sklearn.cluster import KMeans\n",
    "from sympy import symbols\n",
    "from sympy.matrices import Matrix\n",
    "from sympy.solvers.solveset import linsolve\n",
    "\n",
    "# Own classes and functions\n",
    "from helper_functions.plot_clusters import draw_plot"
   ]
  },
  {
   "cell_type": "code",
   "execution_count": null,
   "id": "dc2d8870-4efa-44c7-bc99-42c0af4b5feb",
   "metadata": {},
   "outputs": [],
   "source": [
    "import seaborn as sns"
   ]
  },
  {
   "cell_type": "code",
   "execution_count": null,
   "id": "882bb14a-aea2-4eb6-adb1-29a31c88064f",
   "metadata": {},
   "outputs": [],
   "source": [
    "sns.mpl_palette(\"jet\", 6)"
   ]
  },
  {
   "cell_type": "code",
   "execution_count": null,
   "id": "0929815c-96fd-44ef-ab04-ce28ede69d48",
   "metadata": {},
   "outputs": [],
   "source": [
    "plt.cm.jet(np.linspace(0, 1, 6))"
   ]
  },
  {
   "cell_type": "markdown",
   "id": "efb875a5-27c3-44cd-972b-239a85a220d1",
   "metadata": {},
   "source": [
    "---\n",
    "<a id='ex1'></a>"
   ]
  },
  {
   "cell_type": "markdown",
   "id": "219a6311-f408-4997-bcd4-e84bd851164b",
   "metadata": {
    "tags": []
   },
   "source": [
    "## 1. Exercise\n",
    "### 1.1. Explain the return value of the sklearn function make_blobs. Address both structure and meaning.\n",
    "\n",
    "The <i>make_blobs</i> function [[1]](https://scikit-learn.org/stable/modules/generated/sklearn.datasets.make_blobs.html) creates artificial clusters. The return value is a tuple."
   ]
  },
  {
   "cell_type": "code",
   "execution_count": null,
   "id": "0dd1a7f0-7dd0-40e1-ae85-49e2bb8b4eab",
   "metadata": {},
   "outputs": [],
   "source": [
    "random_state = 1"
   ]
  },
  {
   "cell_type": "code",
   "execution_count": null,
   "id": "2daeb4d1-6fdf-406b-af12-85260205b2ad",
   "metadata": {},
   "outputs": [],
   "source": [
    "artificial_blobs = make_blobs(n_samples=100, centers=3, n_features=2, random_state=random_state)\n",
    "print(f\"Return type:\\t'{type(artificial_blobs)}'\\nReturn #items:\\t{len(artificial_blobs)}\")\n",
    "for idx, item in enumerate(artificial_blobs):\n",
    "    print(f\"Item[{idx}]:\\t{type(item)}\")"
   ]
  },
  {
   "cell_type": "markdown",
   "id": "96e37774-07ba-4ba8-b813-6096f867824c",
   "metadata": {},
   "source": [
    "Depending on whether the cluster centers are to be returned, the tuple either contains two Numpy arrays..."
   ]
  },
  {
   "cell_type": "code",
   "execution_count": null,
   "id": "cebdce8b-dec4-4b6e-af01-ab997a02a721",
   "metadata": {},
   "outputs": [],
   "source": [
    "artificial_blobs = make_blobs(\n",
    "    n_samples=100, centers=3, n_features=2, random_state=random_state, return_centers=True\n",
    ")\n",
    "print(f\"Return type:\\t'{type(artificial_blobs)}'\\nReturn #items:\\t{len(artificial_blobs)}\")\n",
    "for idx, item in enumerate(artificial_blobs):\n",
    "    print(f\"Item[{idx}]:\\t{type(item)}\")"
   ]
  },
  {
   "cell_type": "markdown",
   "id": "bd768fe7-4c66-4b04-aa32-84824d1223a6",
   "metadata": {},
   "source": [
    "... or three Numpy arrays. In the later case the additional Numpy array contains the cluster centers.<br>\n",
    "\n",
    "The first Numpy array contains the samples. In our example we have created 10 samples with two features each. In order to create the 10 samples, first the centers are generated using the <i>numpy.random.Generator.uniform</i> function [[2]](https://numpy.org/doc/stable/reference/random/generated/numpy.random.Generator.uniform.html)."
   ]
  },
  {
   "cell_type": "code",
   "execution_count": null,
   "id": "32845d1a-cb35-405b-a3f1-d86271948b93",
   "metadata": {},
   "outputs": [],
   "source": [
    "random_generator = np.random.RandomState(random_state)\n",
    "random_generator.uniform(-10.0, 10.0, (3, 2))"
   ]
  },
  {
   "cell_type": "code",
   "execution_count": null,
   "id": "7ce4da55-06b8-42d1-ad48-af528ce9440b",
   "metadata": {},
   "outputs": [],
   "source": [
    "artificial_blobs[2]"
   ]
  },
  {
   "cell_type": "markdown",
   "id": "342b63db-0597-47bb-9fa4-8095125829b7",
   "metadata": {},
   "source": [
    "Next the number of samples per center is calculated and then the samples for each center are drawn from a normal Gaussian distribution [[3]](https://numpy.org/doc/stable/reference/random/generated/numpy.random.Generator.normal.html)."
   ]
  },
  {
   "cell_type": "code",
   "execution_count": null,
   "id": "dbea7eea-a0d2-417a-9a91-dd39b6f9ac6f",
   "metadata": {},
   "outputs": [],
   "source": [
    "artificial_blobs[0][:10]"
   ]
  },
  {
   "cell_type": "markdown",
   "id": "e2c26567-4272-4f3f-8a07-0897dae499fd",
   "metadata": {},
   "source": [
    "The second Numpy array contains the labels for the samples. The labels are just the indexes of the previously generated centers."
   ]
  },
  {
   "cell_type": "code",
   "execution_count": null,
   "id": "f0e92973-f172-456e-adf5-832e6d516da4",
   "metadata": {},
   "outputs": [],
   "source": [
    "artificial_blobs[1][:10]"
   ]
  },
  {
   "cell_type": "markdown",
   "id": "d65dd9b5-8fdf-4670-8420-ba9c32ba2644",
   "metadata": {},
   "source": [
    "### 1.2. Compare the result of make_blobs to the data typically available in a real-world clustering task. What would be the main difference?"
   ]
  },
  {
   "cell_type": "code",
   "execution_count": null,
   "id": "799b6c94-b1f0-4c56-8e46-60fda1443171",
   "metadata": {},
   "outputs": [],
   "source": [
    "draw_plot(\n",
    "    artificial_blobs[0],\n",
    "    hue=artificial_blobs[1],\n",
    "    title=\"Artificial clusters generated by make_blobs\",\n",
    ")"
   ]
  },
  {
   "cell_type": "markdown",
   "id": "bc378b4d-3a17-4af4-9013-2bb9e9dc75b6",
   "metadata": {},
   "source": [
    "The clusters generated by <i>make_blobs</i> are very clearly separated. Real-world data usually is not that well separated, making it harder to identify the different clusters. A more \"realistic\" dataset would look like the example below, which was taken from the Scikit learn website [[4]](https://scikit-learn.org/stable/auto_examples/datasets/plot_random_dataset.html)."
   ]
  },
  {
   "cell_type": "code",
   "execution_count": null,
   "id": "2a45ac77-d474-4dbb-8a30-df3fa36a27fd",
   "metadata": {},
   "outputs": [],
   "source": [
    "X1, Y1 = make_classification(\n",
    "    n_features=2,\n",
    "    n_redundant=0,\n",
    "    n_informative=2,\n",
    "    n_clusters_per_class=1,\n",
    "    n_classes=3,\n",
    "    random_state=random_state,\n",
    ")\n",
    "draw_plot(\n",
    "    X1,\n",
    "    hue=Y1,\n",
    "    title=\"Artificial clusters generated by make_classification\",\n",
    ")"
   ]
  },
  {
   "cell_type": "markdown",
   "id": "87d98730-fa67-4cf2-a136-0455839786d2",
   "metadata": {},
   "source": [
    "---\n",
    "<a id='ex2'></a>"
   ]
  },
  {
   "cell_type": "markdown",
   "id": "88f4244e-27b7-4193-bfbd-b2126c9d0085",
   "metadata": {
    "tags": []
   },
   "source": [
    "## 2. Exercise\n",
    "Use the function make_blobs to create two datasets 𝐴 and 𝐵 with the following specifications:<br>\n",
    "Each dataset should contain 500 samples. Additionally, use shuffling, a random seed of 1, and the following parameters to specify the datasets:\n",
    "\n",
    "| **dataset** | **# features** |                          cluster_centers                         |    cluster_std   |\n",
    "|:-----------:|:--------------:|:----------------------------------------------------------------:|:----------------:|\n",
    "|      A      |        2       |                          [[1,2], [5,7]]                          | [[0.1,1], [2,3]] |\n",
    "|      B      |        4       | [[1,1,1,0], [6,1,1,3], [1,7,2,1],<br>[1.5,2,5,5], [10,11,12,13]] |        .6        |"
   ]
  },
  {
   "cell_type": "markdown",
   "id": "18eed311-32b4-4520-bf12-11a11bf258e5",
   "metadata": {},
   "source": [
    "### 2.1. Create the dataset as described above."
   ]
  },
  {
   "cell_type": "code",
   "execution_count": null,
   "id": "668470fc-dfd7-4b2e-972d-ae74f2cc0b94",
   "metadata": {},
   "outputs": [],
   "source": [
    "n_samples = 500\n",
    "shuffle = True"
   ]
  },
  {
   "cell_type": "code",
   "execution_count": null,
   "id": "aea6b201-7962-4995-b011-aa5b842c03b8",
   "metadata": {},
   "outputs": [],
   "source": [
    "dataset_a, labels_a, centers_a = make_blobs(\n",
    "    n_samples=n_samples,\n",
    "    centers=[(1, 2), (5, 7)],\n",
    "    random_state=random_state,\n",
    "    shuffle=shuffle,\n",
    "    cluster_std=[[0.1, 1], [2, 3]],\n",
    "    return_centers=True,\n",
    ")\n",
    "centers_a"
   ]
  },
  {
   "cell_type": "code",
   "execution_count": null,
   "id": "6f2ec2b6-5518-4d53-9e7f-85d61a07b653",
   "metadata": {},
   "outputs": [],
   "source": [
    "dataset_b, labels_b, centers_b = make_blobs(\n",
    "    n_samples=n_samples,\n",
    "    centers=[(1, 1, 1, 0), (6, 1, 1, 3), (1, 7, 2, 1), (1.5, 2, 5, 5), (10, 11, 12, 13)],\n",
    "    random_state=random_state,\n",
    "    shuffle=shuffle,\n",
    "    cluster_std=0.6,\n",
    "    return_centers=True,\n",
    ")\n",
    "centers_b"
   ]
  },
  {
   "cell_type": "markdown",
   "id": "338d503f-6970-40fd-9b07-a0326f7cbb3c",
   "metadata": {
    "tags": []
   },
   "source": [
    "### 2.2. Plot the data in (one or more) suitable ways such that the structure of the blobs can be read from the visualizations. Use diagrams with the same scaling for all axes. You may use the full result of make_blobs to plot the points and highlight the generating structure."
   ]
  },
  {
   "cell_type": "code",
   "execution_count": null,
   "id": "58183f6a-2ccb-4525-b4fc-fa3d0d714ea6",
   "metadata": {},
   "outputs": [],
   "source": [
    "draw_plot(\n",
    "    dataset_a,\n",
    "    hue=labels_a,\n",
    "    alpha=0.75,\n",
    "    labels=[\"Feature0\", \"Feature1\"],\n",
    "    title=\"Artificial clusters from dataset A\",\n",
    ")"
   ]
  },
  {
   "cell_type": "code",
   "execution_count": null,
   "id": "8973c096-5838-40d1-a2e1-59b72ff28c5e",
   "metadata": {},
   "outputs": [],
   "source": [
    "draw_plot(\n",
    "    dataset_a,\n",
    "    hue=labels_a,\n",
    "    plot_type=\"boxplot\",\n",
    "    figsize=(8, 4),\n",
    "    grid_size=(1, 2),\n",
    "    labels=[\"Feature\", \"Feature\"],\n",
    "    title=\"Class distribution per feature for dataset A\",\n",
    ")"
   ]
  },
  {
   "cell_type": "code",
   "execution_count": null,
   "id": "9ab64661-fc52-40c0-9b2b-cfe927ecd87c",
   "metadata": {},
   "outputs": [],
   "source": [
    "draw_plot(\n",
    "    dataset_b,\n",
    "    plot_type=\"grid\",\n",
    "    hue=labels_b,\n",
    "    alpha=0.80,\n",
    "    figsize=(16, 8),\n",
    "    grid_size=(2, 3),\n",
    "    labels=[\"Feature\", \"Feature\"],\n",
    "    legend_loc=\"lower right\",\n",
    "    shareaxes=True,\n",
    "    title=\"Artificial clusters from 'dataset B'\",\n",
    ")"
   ]
  },
  {
   "cell_type": "code",
   "execution_count": null,
   "id": "30ce6cfc-7cbc-4fc0-8f8d-6bb675c72988",
   "metadata": {},
   "outputs": [],
   "source": [
    "draw_plot(\n",
    "    dataset_b,\n",
    "    hue=labels_b,\n",
    "    plot_type=\"boxplot\",\n",
    "    figsize=(16, 4),\n",
    "    grid_size=(1, 4),\n",
    "    labels=[\"Feature\", \"Feature\"],\n",
    "    title=\"Class distribution per feature for dataset B\",\n",
    ")"
   ]
  },
  {
   "cell_type": "markdown",
   "id": "72a6267a-a788-44a0-bb37-93a44668cdc2",
   "metadata": {},
   "source": [
    "### 2.3. Compute k-Means clusterings of the dataset for different choices of $k$ : 2, 3, . . . , 10. For each $k$ compute the silhouette coefficient and plot them against $k$ in a diagram. Describe and interpret the diagram."
   ]
  },
  {
   "cell_type": "code",
   "execution_count": null,
   "id": "695275da-a640-4837-8522-ba6be2c1a910",
   "metadata": {},
   "outputs": [],
   "source": [
    "k_range = range(2, 11)"
   ]
  },
  {
   "cell_type": "code",
   "execution_count": null,
   "id": "053c4a2d-d694-444f-aaa7-1e39458000f2",
   "metadata": {},
   "outputs": [],
   "source": [
    "draw_plot(\n",
    "    dataset_a,\n",
    "    plot_type=\"ksscore\",\n",
    "    ks=k_range,\n",
    "    random_state=random_state,\n",
    "    labels=[\"K\", \"Silhouette Coefficient\"],\n",
    "    title=\"Silhouette Score for different Ks using dataset A\",\n",
    ")"
   ]
  },
  {
   "cell_type": "markdown",
   "id": "ad9ad68b-fca4-41f5-8919-0b7912c1683f",
   "metadata": {},
   "source": [
    "The graph above shows the Silhouette score for different cluster sizes using dataset A. The best score (0.617) was achieved for a cluster size of two. The cluster sizes 3,4 and 5 have lower but very similar scores. After a cluster size of 6 the score decreases much more.<br>\n",
    "This suggest that the best number of clusters for this dataset is two; which we know is true for this artificial dataset. Interestingly, the score is very low, hinting that clusters are not well separated."
   ]
  },
  {
   "cell_type": "code",
   "execution_count": null,
   "id": "48303fda-78fa-4182-81dd-ae5a840c1b42",
   "metadata": {},
   "outputs": [],
   "source": [
    "draw_plot(\n",
    "    dataset_b,\n",
    "    plot_type=\"ksscore\",\n",
    "    ks=k_range,\n",
    "    random_state=random_state,\n",
    "    labels=[\"K\", \"Silhouette Coefficient\"],\n",
    "    title=\"Silhouette Score for different Ks using dataset B\",\n",
    ")"
   ]
  },
  {
   "cell_type": "markdown",
   "id": "6d7b73ae-ed3a-40b4-ac60-3a87391b5e59",
   "metadata": {},
   "source": [
    "For dataset B the best score (0.771) was achieved for a cluster size of five. "
   ]
  },
  {
   "cell_type": "markdown",
   "id": "b18f9333-5e95-4277-9bc3-b32dfc2b7476",
   "metadata": {},
   "source": [
    "### 2.4. Choose $k$ according to your result in 2.3 and create the silhouette plot for the clustering. Describe and interpret the diagram."
   ]
  },
  {
   "cell_type": "code",
   "execution_count": null,
   "id": "77e581b9-5729-46e8-ad8f-133d4e631b88",
   "metadata": {},
   "outputs": [],
   "source": [
    "draw_plot(\n",
    "    dataset_a,\n",
    "    plot_type=\"silhouette\",\n",
    "    ks=2,\n",
    "    random_state=random_state,\n",
    "    labels=[\"The silhouette coefficient values\", \"Cluster label\"],\n",
    "    title=\"Silhouette analysis for KMeans clustering on Facebook data with n_clusters = 2\",\n",
    ")"
   ]
  },
  {
   "cell_type": "code",
   "execution_count": null,
   "id": "65d68283-faf1-42f9-8705-74dbe3ee8064",
   "metadata": {},
   "outputs": [],
   "source": [
    "draw_plot(\n",
    "    dataset_b,\n",
    "    plot_type=\"silhouette\",\n",
    "    ks=5,\n",
    "    random_state=random_state,\n",
    "    labels=[\"The silhouette coefficient values\", \"Cluster label\"],\n",
    "    title=\"Silhouette analysis for KMeans clustering on Facebook data with n_clusters = 2\",\n",
    ")"
   ]
  },
  {
   "cell_type": "markdown",
   "id": "5727b169-46a4-4311-9327-80bfb0b20e1f",
   "metadata": {},
   "source": [
    "### 2.5. For the same $k$ plot the data in (one or more) scatter plots. Visualize the clustering using colors. Additionally visualize the cluster centers."
   ]
  },
  {
   "cell_type": "code",
   "execution_count": null,
   "id": "187ee7b8-6478-4650-8dae-2215611cf961",
   "metadata": {},
   "outputs": [],
   "source": [
    "kkm_2 = KMeans(n_clusters=2, random_state=random_state, init=\"k-means++\", max_iter=300, tol=0.0001)\n",
    "predicted_labels_a = kkm_2.fit_predict(dataset_a)\n",
    "centers_2 = kkm_2.cluster_centers_"
   ]
  },
  {
   "cell_type": "code",
   "execution_count": null,
   "id": "71d17e60-1065-4c94-a9a6-5aa2b9638dd1",
   "metadata": {},
   "outputs": [],
   "source": [
    "draw_plot(\n",
    "    dataset_a,\n",
    "    hue=predicted_labels_a,\n",
    "    centers=centers_2,\n",
    "    alpha=0.75,\n",
    "    labels=[\"Feature0\", \"Feature1\"],\n",
    "    title=\"Predicted clusters from dataset A\",\n",
    ")"
   ]
  },
  {
   "cell_type": "code",
   "execution_count": null,
   "id": "46e5148b-388d-4f21-9678-b9bef75e71d0",
   "metadata": {},
   "outputs": [],
   "source": [
    "kkm_5 = KMeans(n_clusters=5, random_state=random_state, init=\"k-means++\", max_iter=300, tol=0.0001)\n",
    "predicted_labels_b = kkm_5.fit_predict(dataset_b)\n",
    "centers_5 = kkm_5.cluster_centers_"
   ]
  },
  {
   "cell_type": "code",
   "execution_count": null,
   "id": "616f2c0b-6ee9-428a-8727-789a65c34c7f",
   "metadata": {},
   "outputs": [],
   "source": [
    "draw_plot(\n",
    "    dataset_b,\n",
    "    plot_type=\"grid\",\n",
    "    hue=predicted_labels_b,\n",
    "    centers=centers_5,\n",
    "    alpha=0.80,\n",
    "    figsize=(16, 8),\n",
    "    grid_size=(2, 3),\n",
    "    labels=[\"Feature\", \"Feature\"],\n",
    "    legend_loc=\"lower right\",\n",
    "    shareaxes=True,\n",
    "    title=\"Predicted clusters from 'dataset B'\",\n",
    ")"
   ]
  },
  {
   "cell_type": "markdown",
   "id": "0c0e4efa-458f-4a62-bb91-527b2ca8482a",
   "metadata": {},
   "source": [
    "### 2.6.  Compare the properties used to create the datasets and the generated groups with results of $k$-means. Among others, address: differences between the number of blobs and clusters, differences between blob centers and cluster centers, group (blob vs. cluster) assignments – here a short textual overall description is sufficient, no instance-wise comparison is necessary –, the dataset’s suitability for $k$-means, possible obstacles, . . . ).\n"
   ]
  },
  {
   "cell_type": "markdown",
   "id": "e58c3e00-945e-400c-b5d2-9138b6ef07bc",
   "metadata": {},
   "source": [
    "Although the artificial clusters in dataset B appeared to be much harder to correctly cluster, they produced the better results.<br>\n",
    "The Silhouette scores in $3.3.$ also showed, that although five clusters was the better result, the second best was two clusters. Using $k=2$ would had grouped the small cluster displayed, in the top right, and the other four clusters together."
   ]
  },
  {
   "cell_type": "markdown",
   "id": "1ce3eafc-7803-40b0-bc30-45d3f3a6836a",
   "metadata": {},
   "source": [
    "---\n",
    "<a id='ex3'></a>"
   ]
  },
  {
   "cell_type": "markdown",
   "id": "96d331f6-088f-4ef5-b3e9-d219c8efac0f",
   "metadata": {
    "tags": []
   },
   "source": [
    "## 3. Exercise\n",
    "\n",
    "### 3.1. Verify that the following five vectors form a base of the vector space $\\mathbb{R}^5$.\n",
    "\n",
    "$$\n",
    "a = \\left(\\begin{aligned}\n",
    "        1 \\\\ 4 \\\\ 7 \\\\ 6 \\\\ 9 \\\\\n",
    "    \\end{aligned}\\right),\n",
    "b = \\left(\\begin{aligned}\n",
    "        7 \\\\ 8 \\\\ 9 \\\\ 2 \\\\ 1 \\\\\n",
    "    \\end{aligned}\\right),\n",
    "c = \\left(\\begin{aligned}\n",
    "        1 \\\\ 5 \\\\ 8 \\\\ 9 \\\\ 0 \\\\\n",
    "    \\end{aligned}\\right),\n",
    "d = \\left(\\begin{aligned}\n",
    "        9 \\\\ 9 \\\\ 5 \\\\ 3 \\\\ 6 \\\\\n",
    "    \\end{aligned}\\right),\n",
    "e = \\left(\\begin{aligned}\n",
    "        0 \\\\ 0 \\\\ 2 \\\\ 3 \\\\ 1 \\\\\n",
    "    \\end{aligned}\\right)\n",
    "$$"
   ]
  },
  {
   "cell_type": "code",
   "execution_count": null,
   "id": "39e1d19b-5d15-4ad6-a652-c073cef21a49",
   "metadata": {},
   "outputs": [],
   "source": [
    "a = np.array([1, 4, 7, 6, 9])\n",
    "b = np.array([7, 8, 9, 2, 1])\n",
    "c = np.array([1, 5, 8, 9, 0])\n",
    "d = np.array([9, 9, 5, 3, 6])\n",
    "e = np.array([0, 0, 2, 3, 1])"
   ]
  },
  {
   "cell_type": "markdown",
   "id": "66040f44-d378-47a0-bb2d-350be5a07255",
   "metadata": {},
   "source": [
    "To verify whether these five vectors from a base of the vector space $\\mathbb{R}^5$, we can combine them to a matrix and calculate its rank."
   ]
  },
  {
   "cell_type": "code",
   "execution_count": null,
   "id": "ca20f41f-1098-43e5-b28a-9a47f8ab569c",
   "metadata": {},
   "outputs": [],
   "source": [
    "m = np.column_stack((a, b, c, d, e))\n",
    "m"
   ]
  },
  {
   "cell_type": "code",
   "execution_count": null,
   "id": "ea2568db-b936-4f6f-ab09-ce285d91c913",
   "metadata": {},
   "outputs": [],
   "source": [
    "np.linalg.matrix_rank(m)"
   ]
  },
  {
   "cell_type": "markdown",
   "id": "7cb23a47-e229-40d1-98e7-4138ddf8f85f",
   "metadata": {},
   "source": [
    "Because the matrix $m$ has max rank, the five vectors are linear independent and therefore form a base of the vector space $\\mathbb{R}^5$."
   ]
  },
  {
   "cell_type": "markdown",
   "id": "18f52e70-6e9b-4cfe-aced-2d34245c0157",
   "metadata": {},
   "source": [
    "### 3.2. Describe the vector $f$ as a linear combination of the above five vectors.\n",
    "$$\n",
    "f = \\left(\\begin{aligned}\n",
    "        1 \\\\ 0 \\\\ 0 \\\\ 0 \\\\ 0\n",
    "    \\end{aligned}\\right)\n",
    "$$"
   ]
  },
  {
   "cell_type": "code",
   "execution_count": null,
   "id": "03597de5-2ec7-420d-a86e-27e14d9b6114",
   "metadata": {},
   "outputs": [],
   "source": [
    "def lincomb_vec(vector, matrix):\n",
    "    inv_matrix = np.linalg.inv(matrix)\n",
    "    return np.matmul(inv_matrix, vector)"
   ]
  },
  {
   "cell_type": "markdown",
   "id": "ab301724-66c7-4de1-b989-05b51c8e74c3",
   "metadata": {},
   "source": [
    "In order to calculate $a, b, c, d$ and $e$ we can solve for <br>\n",
    "$$\\vec{x} = \\left(\\begin{aligned} a\\\\ b \\\\ c\\\\ d \\\\ e\\\\ \\end{aligned}\\right)$$ <br>\n",
    "\n",
    "using the following equation:\n",
    "\n",
    "$$\n",
    "\\begin{equation}\n",
    "\\begin{aligned}\n",
    "    m * \\vec{x} &= \\vec{f} \\\\\n",
    "    m^{-1} * m * \\vec{x} &= m^{-1} * \\vec{f} \\\\\n",
    "    with: &\\,\\, m * m^{-1} = I \\\\\n",
    "    \\vec{x} &= m^{-1} * \\vec{f}\n",
    "\\end{aligned}\n",
    "\\end{equation}\n",
    "$$\n",
    "\n",
    "With $I$ being the identity matrix."
   ]
  },
  {
   "cell_type": "code",
   "execution_count": null,
   "id": "33da6936-d711-4cf1-9306-a5c2cd7e4af2",
   "metadata": {},
   "outputs": [],
   "source": [
    "f = np.array([1, 0, 0, 0, 0])\n",
    "x = lincomb_vec(f, m)\n",
    "x"
   ]
  },
  {
   "cell_type": "markdown",
   "id": "edfc4e6c-b989-46cd-b95c-99b2689376de",
   "metadata": {},
   "source": [
    "Vector $f$ can be described as follows:"
   ]
  },
  {
   "cell_type": "markdown",
   "id": "773a0e06-7c2b-4d45-a388-4b71130d9573",
   "metadata": {},
   "source": [
    "$$\n",
    "\\left(\\begin{aligned}\n",
    "        1 \\\\ 0 \\\\ 0 \\\\ 0 \\\\ 0 \\\\\n",
    "    \\end{aligned}\\right) = \n",
    "(-)0.14163172 * \\left(\\begin{aligned}\n",
    "        1 \\\\ 4 \\\\ 7 \\\\ 6 \\\\ 9 \\\\\n",
    "    \\end{aligned}\\right) +\n",
    "0.05775829 * \\left(\\begin{aligned}\n",
    "        7 \\\\ 8 \\\\ 9 \\\\ 2 \\\\ 1 \\\\\n",
    "    \\end{aligned}\\right) +\n",
    "(-)0.15821578 * \\left(\\begin{aligned}\n",
    "        1 \\\\ 5 \\\\ 8 \\\\ 9 \\\\ 0 \\\\\n",
    "    \\end{aligned}\\right) +\n",
    "0.09950438 * \\left(\\begin{aligned}\n",
    "        9 \\\\ 9 \\\\ 5 \\\\ 3 \\\\ 6 \\\\\n",
    "    \\end{aligned}\\right) +\n",
    "0.61990088 * \\left(\\begin{aligned}\n",
    "        0 \\\\ 0 \\\\ 2 \\\\ 3 \\\\ 1 \\\\\n",
    "    \\end{aligned}\\right)\n",
    "$$"
   ]
  },
  {
   "cell_type": "code",
   "execution_count": null,
   "id": "6db612bb-5993-4855-97a8-0372b5ceae75",
   "metadata": {},
   "outputs": [],
   "source": [
    "x[0] * a + x[1] * b + x[2] * c + x[3] * d + x[4] * e"
   ]
  },
  {
   "cell_type": "markdown",
   "id": "b6a2e10d-46aa-4fa2-ac6b-8d6e33ab4916",
   "metadata": {},
   "source": [
    "The result is correct. The small deviations are a result of Pythons limitations with floating point numbers."
   ]
  },
  {
   "cell_type": "markdown",
   "id": "f99ee455-bd2a-4387-b7ea-cf720b0f7123",
   "metadata": {},
   "source": [
    "---\n",
    "<a id='ex4'></a>"
   ]
  },
  {
   "cell_type": "markdown",
   "id": "0ebc48f3-afc8-41f8-b7cc-2b201bb40bd1",
   "metadata": {},
   "source": [
    "## 4. Exercise\n",
    "\n",
    "### 4.1. Verify that the set containing the following five vectors is not linear independent.\n",
    "$$\n",
    "a = \\left(\\begin{aligned}\n",
    "        8 \\\\ 4 \\\\ 2 \\\\ 1 \\\\ 9 \\\\\n",
    "    \\end{aligned}\\right),\n",
    "b = \\left(\\begin{aligned}\n",
    "        15 \\\\ 19 \\\\ 1 \\\\ 9 \\\\ 21 \\\\\n",
    "    \\end{aligned}\\right),\n",
    "c = \\left(\\begin{aligned}\n",
    "        1 \\\\ 4 \\\\ 8 \\\\ 5 \\\\ 0 \\\\\n",
    "    \\end{aligned}\\right),\n",
    "d = \\left(\\begin{aligned}\n",
    "        9 \\\\ 9 \\\\ 5 \\\\ 3 \\\\ 6 \\\\\n",
    "    \\end{aligned}\\right),\n",
    "e = \\left(\\begin{aligned}\n",
    "        4 \\\\ 2 \\\\ 8 \\\\ 2 \\\\ 1 \\\\\n",
    "    \\end{aligned}\\right)\n",
    "$$"
   ]
  },
  {
   "cell_type": "code",
   "execution_count": null,
   "id": "fc789a12-e3d0-4c42-b441-72394363f26e",
   "metadata": {},
   "outputs": [],
   "source": [
    "a_4 = np.array([8, 4, 2, 1, 9])\n",
    "b_4 = np.array([15, 19, 1, 9, 21])\n",
    "c_4 = np.array([1, 4, 8, 5, 0])\n",
    "d_4 = np.array([9, 9, 5, 3, 6])\n",
    "e_4 = np.array([4, 2, 8, 2, 1])"
   ]
  },
  {
   "cell_type": "code",
   "execution_count": null,
   "id": "e71b8c3a-43af-4304-8bb9-f82c647579e4",
   "metadata": {},
   "outputs": [],
   "source": [
    "m_4 = np.column_stack((a_4, b_4, c_4, d_4, e_4))\n",
    "m_4"
   ]
  },
  {
   "cell_type": "code",
   "execution_count": null,
   "id": "ccb5cf60-70b8-4baf-aea1-28d90c455933",
   "metadata": {},
   "outputs": [],
   "source": [
    "np.linalg.matrix_rank(m_4)"
   ]
  },
  {
   "cell_type": "markdown",
   "id": "f640f1d0-d706-4328-afc9-f3b7b854ef8d",
   "metadata": {},
   "source": [
    "The five vectors do not have max rank and are therefore not linear independent."
   ]
  },
  {
   "cell_type": "markdown",
   "id": "8aaea535-e63a-4e28-abdd-09756b3dd9bf",
   "metadata": {},
   "source": [
    "### 4.2.  The vectors $a$, $b$, $c$ and $d$ form the base of a vector subspace of $\\mathbb{R}^5$. Verify that $f$ is not a member of that subspace.\n",
    "\n",
    "$$\n",
    "f = \\left(\\begin{aligned}\n",
    "        1 \\\\ 0 \\\\ 0 \\\\ 0 \\\\ 0\n",
    "    \\end{aligned}\\right)\n",
    "$$"
   ]
  },
  {
   "cell_type": "markdown",
   "id": "8f2c3f99-2032-429e-a7c1-8805a71b2fd4",
   "metadata": {},
   "source": [
    "Here we can again calculate the rank of the matrix made up of $a, b, c, d$ and $f$. If it has full rank, $f$ can not be represented by any of the other vectors and therefore making independent of them."
   ]
  },
  {
   "cell_type": "code",
   "execution_count": null,
   "id": "e76fa05c-5555-4051-abbf-2becea8ee2ca",
   "metadata": {},
   "outputs": [],
   "source": [
    "m_42 = np.column_stack((a_4, b_4, c_4, d_4, f))\n",
    "m_42"
   ]
  },
  {
   "cell_type": "code",
   "execution_count": null,
   "id": "759f13d4-29c4-4ee5-adc5-39092d9a3986",
   "metadata": {},
   "outputs": [],
   "source": [
    "np.linalg.matrix_rank(m_42)"
   ]
  },
  {
   "cell_type": "markdown",
   "id": "5cdf96c1-58f3-4d43-bc4d-425c25a56d1a",
   "metadata": {},
   "source": [
    "Because the matrix containing $a, b,c,d$ and $f$ has full rank, $f$ is not a member of the subspace created by $a,b,c$ and $d$."
   ]
  },
  {
   "cell_type": "markdown",
   "id": "7792f9e7-0db4-49c1-824e-f477981994b6",
   "metadata": {},
   "source": [
    "### 4.3. Use the sympy library to compute a linear combination of $a$, $b$, $c$ and $d$ for $e$.\n"
   ]
  },
  {
   "cell_type": "markdown",
   "id": "926035ba-669c-4310-9db6-1b8184a6d0d4",
   "metadata": {},
   "source": [
    "First we create the variables for which we want a solution."
   ]
  },
  {
   "cell_type": "code",
   "execution_count": null,
   "id": "bbe8726c-0dec-4810-a3f9-bd6617fe943f",
   "metadata": {},
   "outputs": [],
   "source": [
    "a, b, c, d = symbols(\"a,b,c,d\")"
   ]
  },
  {
   "cell_type": "markdown",
   "id": "ae9965de-7a33-401a-bfb5-e9248210d1b1",
   "metadata": {},
   "source": [
    "Next we create the matrix which has to solved."
   ]
  },
  {
   "cell_type": "code",
   "execution_count": null,
   "id": "f1d1bd0a-8eb7-4589-b418-d3d1128b11c0",
   "metadata": {},
   "outputs": [],
   "source": [
    "sym_m = Matrix([a_4, b_4, c_4, d_4, e_4]).T\n",
    "sym_m"
   ]
  },
  {
   "cell_type": "code",
   "execution_count": null,
   "id": "4b041ae9-49f7-41d3-82a2-c1d6ff166759",
   "metadata": {},
   "outputs": [],
   "source": [
    "res = linsolve(sym_m, (a, b, c, d))\n",
    "res"
   ]
  },
  {
   "cell_type": "code",
   "execution_count": null,
   "id": "982a2acd-fa0c-4749-bd00-734fda747420",
   "metadata": {},
   "outputs": [],
   "source": [
    "a, b, c, d = list(res)[0]"
   ]
  },
  {
   "cell_type": "markdown",
   "id": "4e329b56-8d02-4f50-96ef-7deac51d1cb1",
   "metadata": {},
   "source": [
    "Lastly we verify the results."
   ]
  },
  {
   "cell_type": "code",
   "execution_count": null,
   "id": "219488cd-b501-42bb-96c9-0ce735b7905b",
   "metadata": {},
   "outputs": [],
   "source": [
    "(a * Matrix([a_4]) + b * Matrix([b_4]) + c * Matrix([c_4]) + d * Matrix([d_4])).T"
   ]
  },
  {
   "cell_type": "markdown",
   "id": "ffbadb09-3df0-44c0-8b05-4da97c228cb6",
   "metadata": {},
   "source": [
    "---\n",
    "<a id='ref'></a>"
   ]
  },
  {
   "cell_type": "markdown",
   "id": "63e0230c-c730-459d-8091-df1715975467",
   "metadata": {},
   "source": [
    "## References\n",
    "\n",
    "<p> [1] https://scikit-learn.org/stable/modules/generated/sklearn.datasets.make_blobs.html\n",
    "<p> [2] https://numpy.org/doc/stable/reference/random/generated/numpy.random.Generator.uniform.html\n",
    "<p> [3] https://numpy.org/doc/stable/reference/random/generated/numpy.random.Generator.normal.html\n",
    "<p> [4] https://scikit-learn.org/stable/auto_examples/datasets/plot_random_dataset.html"
   ]
  }
 ],
 "metadata": {
  "kernelspec": {
   "display_name": "MMS",
   "language": "python",
   "name": "mms"
  },
  "language_info": {
   "codemirror_mode": {
    "name": "ipython",
    "version": 3
   },
   "file_extension": ".py",
   "mimetype": "text/x-python",
   "name": "python",
   "nbconvert_exporter": "python",
   "pygments_lexer": "ipython3",
   "version": "3.9.7"
  }
 },
 "nbformat": 4,
 "nbformat_minor": 5
}
